{
 "cells": [
  {
   "cell_type": "code",
   "execution_count": 1,
   "metadata": {
    "collapsed": true
   },
   "outputs": [],
   "source": [
    "import pandas as pd\n",
    "import torch\n",
    "import numpy as np\n",
    "import os\n",
    "import random"
   ]
  },
  {
   "cell_type": "code",
   "execution_count": 2,
   "outputs": [
    {
     "data": {
      "text/plain": "device(type='cuda')"
     },
     "execution_count": 2,
     "metadata": {},
     "output_type": "execute_result"
    }
   ],
   "source": [
    "device = torch.device('cuda') # torch.device('cpu')\n",
    "device"
   ],
   "metadata": {
    "collapsed": false
   }
  },
  {
   "cell_type": "code",
   "execution_count": 4,
   "outputs": [],
   "source": [
    "torch.cuda.set_device(0)\n",
    "device = torch.device(\"cuda\")\n",
    "\n",
    "def set_all_seeds(seed):\n",
    "    os.environ[\"PL_GLOBAL_SEED\"] = str(seed)\n",
    "    random.seed(seed)\n",
    "    np.random.seed(seed)\n",
    "    torch.manual_seed(seed)\n",
    "    torch.cuda.manual_seed_all(seed)\n",
    "\n",
    "set_all_seeds(42)"
   ],
   "metadata": {
    "collapsed": false
   }
  },
  {
   "cell_type": "code",
   "execution_count": 91,
   "outputs": [
    {
     "data": {
      "text/plain": "array([4, 3, 2, 1, 0], dtype=int64)"
     },
     "execution_count": 91,
     "metadata": {},
     "output_type": "execute_result"
    }
   ],
   "source": [
    "train_data = pd.read_csv(\"train_data.csv\")\n",
    "train_data.head(10)\n",
    "train_data['rating'].unique()"
   ],
   "metadata": {
    "collapsed": false
   }
  },
  {
   "cell_type": "code",
   "execution_count": 92,
   "outputs": [
    {
     "data": {
      "text/plain": "array([[<AxesSubplot: title={'center': 'rating'}>]], dtype=object)"
     },
     "execution_count": 92,
     "metadata": {},
     "output_type": "execute_result"
    },
    {
     "data": {
      "text/plain": "<Figure size 640x480 with 1 Axes>",
      "image/png": "[encoded data removed]"
     },
     "metadata": {},
     "output_type": "display_data"
    }
   ],
   "source": [
    "train_data.hist(column=\"rating\")"
   ],
   "metadata": {
    "collapsed": false
   }
  },
  {
   "cell_type": "code",
   "execution_count": 7,
   "outputs": [
    {
     "data": {
      "text/plain": "   great hotel location stayed 4 nts 24th 28th jan celebrating daughter 21st birthday.staff helpful getting balloons cake ordered occassion gave daughter chocolates vouchers free drink cellar bar.they recommended phillepe chow celebration meal lovely pricey special occasion booking recommended busy friday night.hotel rooms appointed turn service night molton brown products bathroom huge windows bathroom bit draughty needed towel having bath.we 18th 22nd floors no trouble noise traffic nightclub.location good minutes walk times square main shopping areas.got good deli right corner hotel called pax good downside hotel no tea/coffee facilities rooms available hotel room service expensive just tea coffee 20,  \n0   n't return overall disappointed hotel, no hot ...                                                                                                                                                                                                                                                                                                                                                                                                                                                                                                                                                                                                                                                                                      \n1   great value location desired problem hotel loc...                                                                                                                                                                                                                                                                                                                                                                                                                                                                                                                                                                                                                                                                                      \n2   kind helpfull people people kind helpful.we no...                                                                                                                                                                                                                                                                                                                                                                                                                                                                                                                                                                                                                                                                                      \n3   absolutely fabulous melia comfortable star hot...                                                                                                                                                                                                                                                                                                                                                                                                                                                                                                                                                                                                                                                                                      \n4   trip hell thoughts gotten, trip airport van no...                                                                                                                                                                                                                                                                                                                                                                                                                                                                                                                                                                                                                                                                                      \n5   lost madrid wife 10 month old recently stayed ...                                                                                                                                                                                                                                                                                                                                                                                                                                                                                                                                                                                                                                                                                      \n6   exceptional value money thoroughly recommend h...                                                                                                                                                                                                                                                                                                                                                                                                                                                                                                                                                                                                                                                                                      \n7   no breakfast just returned home san francisco ...                                                                                                                                                                                                                                                                                                                                                                                                                                                                                                                                                                                                                                                                                      \n8   great place friend stayed end april 5 nights, ...                                                                                                                                                                                                                                                                                                                                                                                                                                                                                                                                                                                                                                                                                      \n9   pleasant change hotels new orleans suite great...                                                                                                                                                                                                                                                                                                                                                                                                                                                                                                                                                                                                                                                                                      \n10  good basic place 2 sisters stayed overnight un...                                                                                                                                                                                                                                                                                                                                                                                                                                                                                                                                                                                                                                                                                      \n11  beutiful resort horrible service dates stay ju...                                                                                                                                                                                                                                                                                                                                                                                                                                                                                                                                                                                                                                                                                      \n12  small nice location great easily walk centraal...                                                                                                                                                                                                                                                                                                                                                                                                                                                                                                                                                                                                                                                                                      \n13  does not disappoint, stayed 5 days white swan ...                                                                                                                                                                                                                                                                                                                                                                                                                                                                                                                                                                                                                                                                                      \n14  beautiful hotel hotel beautiful- clean comfort...                                                                                                                                                                                                                                                                                                                                                                                                                                                                                                                                                                                                                                                                                      \n15  bad vibrations sydney partner london, booked s...                                                                                                                                                                                                                                                                                                                                                                                                                                                                                                                                                                                                                                                                                      \n16  loved beach loved beach sand fleas bite, recom...                                                                                                                                                                                                                                                                                                                                                                                                                                                                                                                                                                                                                                                                                      \n17  great hotel having florence great, right middl...                                                                                                                                                                                                                                                                                                                                                                                                                                                                                                                                                                                                                                                                                      \n18  hotel perseo great value location, stayed 3 ni...                                                                                                                                                                                                                                                                                                                                                                                                                                                                                                                                                                                                                                                                                      \n19  wonderful hotel stayed hotel alaskan cruise en...                                                                                                                                                                                                                                                                                                                                                                                                                                                                                                                                                                                                                                                                                      ",
      "text/html": "<div>\n<style scoped>\n    .dataframe tbody tr th:only-of-type {\n        vertical-align: middle;\n    }\n\n    .dataframe tbody tr th {\n        vertical-align: top;\n    }\n\n    .dataframe thead th {\n        text-align: right;\n    }\n</style>\n<table border=\"1\" class=\"dataframe\">\n  <thead>\n    <tr style=\"text-align: right;\">\n      <th></th>\n      <th>great hotel location stayed 4 nts 24th 28th jan celebrating daughter 21st birthday.staff helpful getting balloons cake ordered occassion gave daughter chocolates vouchers free drink cellar bar.they recommended phillepe chow celebration meal lovely pricey special occasion booking recommended busy friday night.hotel rooms appointed turn service night molton brown products bathroom huge windows bathroom bit draughty needed towel having bath.we 18th 22nd floors no trouble noise traffic nightclub.location good minutes walk times square main shopping areas.got good deli right corner hotel called pax good downside hotel no tea/coffee facilities rooms available hotel room service expensive just tea coffee 20,</th>\n    </tr>\n  </thead>\n  <tbody>\n    <tr>\n      <th>0</th>\n      <td>n't return overall disappointed hotel, no hot ...</td>\n    </tr>\n    <tr>\n      <th>1</th>\n      <td>great value location desired problem hotel loc...</td>\n    </tr>\n    <tr>\n      <th>2</th>\n      <td>kind helpfull people people kind helpful.we no...</td>\n    </tr>\n    <tr>\n      <th>3</th>\n      <td>absolutely fabulous melia comfortable star hot...</td>\n    </tr>\n    <tr>\n      <th>4</th>\n      <td>trip hell thoughts gotten, trip airport van no...</td>\n    </tr>\n    <tr>\n      <th>5</th>\n      <td>lost madrid wife 10 month old recently stayed ...</td>\n    </tr>\n    <tr>\n      <th>6</th>\n      <td>exceptional value money thoroughly recommend h...</td>\n    </tr>\n    <tr>\n      <th>7</th>\n      <td>no breakfast just returned home san francisco ...</td>\n    </tr>\n    <tr>\n      <th>8</th>\n      <td>great place friend stayed end april 5 nights, ...</td>\n    </tr>\n    <tr>\n      <th>9</th>\n      <td>pleasant change hotels new orleans suite great...</td>\n    </tr>\n    <tr>\n      <th>10</th>\n      <td>good basic place 2 sisters stayed overnight un...</td>\n    </tr>\n    <tr>\n      <th>11</th>\n      <td>beutiful resort horrible service dates stay ju...</td>\n    </tr>\n    <tr>\n      <th>12</th>\n      <td>small nice location great easily walk centraal...</td>\n    </tr>\n    <tr>\n      <th>13</th>\n      <td>does not disappoint, stayed 5 days white swan ...</td>\n    </tr>\n    <tr>\n      <th>14</th>\n      <td>beautiful hotel hotel beautiful- clean comfort...</td>\n    </tr>\n    <tr>\n      <th>15</th>\n      <td>bad vibrations sydney partner london, booked s...</td>\n    </tr>\n    <tr>\n      <th>16</th>\n      <td>loved beach loved beach sand fleas bite, recom...</td>\n    </tr>\n    <tr>\n      <th>17</th>\n      <td>great hotel having florence great, right middl...</td>\n    </tr>\n    <tr>\n      <th>18</th>\n      <td>hotel perseo great value location, stayed 3 ni...</td>\n    </tr>\n    <tr>\n      <th>19</th>\n      <td>wonderful hotel stayed hotel alaskan cruise en...</td>\n    </tr>\n  </tbody>\n</table>\n</div>"
     },
     "execution_count": 7,
     "metadata": {},
     "output_type": "execute_result"
    }
   ],
   "source": [
    "test_data = pd.read_csv(\"test_data.csv\")\n",
    "test_data.head(20)"
   ],
   "metadata": {
    "collapsed": false
   }
  },
  {
   "cell_type": "code",
   "execution_count": 8,
   "outputs": [
    {
     "data": {
      "text/plain": "16392"
     },
     "execution_count": 8,
     "metadata": {},
     "output_type": "execute_result"
    }
   ],
   "source": [
    "train_data.shape[0]"
   ],
   "metadata": {
    "collapsed": false
   }
  },
  {
   "cell_type": "code",
   "execution_count": 9,
   "outputs": [
    {
     "name": "stderr",
     "output_type": "stream",
     "text": [
      "[nltk_data] Downloading package stopwords to\n",
      "[nltk_data]     C:\\Users\\Michal\\AppData\\Roaming\\nltk_data...\n",
      "[nltk_data]   Package stopwords is already up-to-date!\n"
     ]
    },
    {
     "data": {
      "text/plain": "  0%|          | 0/16392 [00:00<?, ?it/s]",
      "application/vnd.jupyter.widget-view+json": {
       "version_major": 2,
       "version_minor": 0,
       "model_id": "dc89c7b13a334a03881df2e261332600"
      }
     },
     "metadata": {},
     "output_type": "display_data"
    }
   ],
   "source": [
    "import re\n",
    "import nltk\n",
    "from tqdm.auto import tqdm\n",
    "nltk.download('stopwords')\n",
    "from nltk.corpus import stopwords\n",
    "from nltk.stem.porter import PorterStemmer\n",
    "corpus = []\n",
    "for i in tqdm(range(0, train_data.shape[0])):\n",
    "    review = re.sub(\"[^a-zA-z]\", ' ', train_data[\"review\"][i])\n",
    "    review = review.lower()\n",
    "    review = review.split()\n",
    "    ps = PorterStemmer()\n",
    "    review = [ps.stem(word) for word in review if not word in set(stopwords.words('english'))]\n",
    "    review = \" \".join(review)\n",
    "    corpus.append(review)"
   ],
   "metadata": {
    "collapsed": false
   }
  },
  {
   "cell_type": "code",
   "execution_count": 14,
   "outputs": [],
   "source": [
    "from sklearn.feature_extraction.text import CountVectorizer\n",
    "cv = CountVectorizer(max_features = 2500)\n",
    "X = cv.fit_transform(corpus).toarray()\n",
    "y = train_data[\"rating\"].values"
   ],
   "metadata": {
    "collapsed": false
   }
  },
  {
   "cell_type": "code",
   "execution_count": 15,
   "outputs": [
    {
     "data": {
      "text/plain": "(16392, 2500)"
     },
     "execution_count": 15,
     "metadata": {},
     "output_type": "execute_result"
    }
   ],
   "source": [
    "X.shape"
   ],
   "metadata": {
    "collapsed": false
   }
  },
  {
   "cell_type": "code",
   "execution_count": 16,
   "outputs": [
    {
     "data": {
      "text/plain": "(16392,)"
     },
     "execution_count": 16,
     "metadata": {},
     "output_type": "execute_result"
    }
   ],
   "source": [
    "y.shape"
   ],
   "metadata": {
    "collapsed": false
   }
  },
  {
   "cell_type": "code",
   "execution_count": 17,
   "outputs": [],
   "source": [
    "from sklearn.model_selection import train_test_split\n",
    "X_train, X_test, y_train, y_test = train_test_split(X, y, test_size = 0.2, random_state = 0)"
   ],
   "metadata": {
    "collapsed": false
   }
  },
  {
   "cell_type": "markdown",
   "source": [
    "# Making predictions using AdaBoostClassifier"
   ],
   "metadata": {
    "collapsed": false
   }
  },
  {
   "cell_type": "code",
   "execution_count": 97,
   "outputs": [],
   "source": [
    "from sklearn.ensemble import AdaBoostClassifier\n",
    "lr = AdaBoostClassifier()\n",
    "lr.fit(X_train, y_train)\n",
    "y_pred = lr.predict(X_test)"
   ],
   "metadata": {
    "collapsed": false
   }
  },
  {
   "cell_type": "code",
   "execution_count": 98,
   "outputs": [
    {
     "name": "stdout",
     "output_type": "stream",
     "text": [
      "              precision    recall  f1-score   support\n",
      "\n",
      "           0       0.53      0.63      0.58       215\n",
      "           1       0.39      0.29      0.33       301\n",
      "           2       0.40      0.17      0.24       348\n",
      "           3       0.47      0.46      0.46       961\n",
      "           4       0.66      0.78      0.71      1454\n",
      "\n",
      "    accuracy                           0.56      3279\n",
      "   macro avg       0.49      0.46      0.46      3279\n",
      "weighted avg       0.54      0.56      0.55      3279\n",
      "\n"
     ]
    }
   ],
   "source": [
    "from sklearn.metrics import classification_report\n",
    "\n",
    "print(classification_report(y_test, y_pred))"
   ],
   "metadata": {
    "collapsed": false
   }
  },
  {
   "cell_type": "code",
   "execution_count": 20,
   "outputs": [
    {
     "data": {
      "text/plain": "                                                    0\n0   great hotel location stayed 4 nts 24th 28th ja...\n1   n't return overall disappointed hotel, no hot ...\n2   great value location desired problem hotel loc...\n3   kind helpfull people people kind helpful.we no...\n4   absolutely fabulous melia comfortable star hot...\n5   trip hell thoughts gotten, trip airport van no...\n6   lost madrid wife 10 month old recently stayed ...\n7   exceptional value money thoroughly recommend h...\n8   no breakfast just returned home san francisco ...\n9   great place friend stayed end april 5 nights, ...\n10  pleasant change hotels new orleans suite great...\n11  good basic place 2 sisters stayed overnight un...\n12  beutiful resort horrible service dates stay ju...\n13  small nice location great easily walk centraal...\n14  does not disappoint, stayed 5 days white swan ...\n15  beautiful hotel hotel beautiful- clean comfort...\n16  bad vibrations sydney partner london, booked s...\n17  loved beach loved beach sand fleas bite, recom...\n18  great hotel having florence great, right middl...\n19  hotel perseo great value location, stayed 3 ni...",
      "text/html": "<div>\n<style scoped>\n    .dataframe tbody tr th:only-of-type {\n        vertical-align: middle;\n    }\n\n    .dataframe tbody tr th {\n        vertical-align: top;\n    }\n\n    .dataframe thead th {\n        text-align: right;\n    }\n</style>\n<table border=\"1\" class=\"dataframe\">\n  <thead>\n    <tr style=\"text-align: right;\">\n      <th></th>\n      <th>0</th>\n    </tr>\n  </thead>\n  <tbody>\n    <tr>\n      <th>0</th>\n      <td>great hotel location stayed 4 nts 24th 28th ja...</td>\n    </tr>\n    <tr>\n      <th>1</th>\n      <td>n't return overall disappointed hotel, no hot ...</td>\n    </tr>\n    <tr>\n      <th>2</th>\n      <td>great value location desired problem hotel loc...</td>\n    </tr>\n    <tr>\n      <th>3</th>\n      <td>kind helpfull people people kind helpful.we no...</td>\n    </tr>\n    <tr>\n      <th>4</th>\n      <td>absolutely fabulous melia comfortable star hot...</td>\n    </tr>\n    <tr>\n      <th>5</th>\n      <td>trip hell thoughts gotten, trip airport van no...</td>\n    </tr>\n    <tr>\n      <th>6</th>\n      <td>lost madrid wife 10 month old recently stayed ...</td>\n    </tr>\n    <tr>\n      <th>7</th>\n      <td>exceptional value money thoroughly recommend h...</td>\n    </tr>\n    <tr>\n      <th>8</th>\n      <td>no breakfast just returned home san francisco ...</td>\n    </tr>\n    <tr>\n      <th>9</th>\n      <td>great place friend stayed end april 5 nights, ...</td>\n    </tr>\n    <tr>\n      <th>10</th>\n      <td>pleasant change hotels new orleans suite great...</td>\n    </tr>\n    <tr>\n      <th>11</th>\n      <td>good basic place 2 sisters stayed overnight un...</td>\n    </tr>\n    <tr>\n      <th>12</th>\n      <td>beutiful resort horrible service dates stay ju...</td>\n    </tr>\n    <tr>\n      <th>13</th>\n      <td>small nice location great easily walk centraal...</td>\n    </tr>\n    <tr>\n      <th>14</th>\n      <td>does not disappoint, stayed 5 days white swan ...</td>\n    </tr>\n    <tr>\n      <th>15</th>\n      <td>beautiful hotel hotel beautiful- clean comfort...</td>\n    </tr>\n    <tr>\n      <th>16</th>\n      <td>bad vibrations sydney partner london, booked s...</td>\n    </tr>\n    <tr>\n      <th>17</th>\n      <td>loved beach loved beach sand fleas bite, recom...</td>\n    </tr>\n    <tr>\n      <th>18</th>\n      <td>great hotel having florence great, right middl...</td>\n    </tr>\n    <tr>\n      <th>19</th>\n      <td>hotel perseo great value location, stayed 3 ni...</td>\n    </tr>\n  </tbody>\n</table>\n</div>"
     },
     "execution_count": 20,
     "metadata": {},
     "output_type": "execute_result"
    }
   ],
   "source": [
    "test_data = pd.read_csv(\"test_data.csv\", header=None)\n",
    "test_data.head(20)"
   ],
   "metadata": {
    "collapsed": false
   }
  },
  {
   "cell_type": "code",
   "execution_count": 21,
   "outputs": [
    {
     "data": {
      "text/plain": "[0]"
     },
     "execution_count": 21,
     "metadata": {},
     "output_type": "execute_result"
    }
   ],
   "source": [
    "list(test_data.columns.values)"
   ],
   "metadata": {
    "collapsed": false
   }
  },
  {
   "cell_type": "code",
   "execution_count": 22,
   "outputs": [
    {
     "data": {
      "text/plain": "  0%|          | 0/4099 [00:00<?, ?it/s]",
      "application/vnd.jupyter.widget-view+json": {
       "version_major": 2,
       "version_minor": 0,
       "model_id": "5b74060c3a8c4941a3f7567361aca67f"
      }
     },
     "metadata": {},
     "output_type": "display_data"
    }
   ],
   "source": [
    "from nltk.corpus import stopwords\n",
    "from nltk.stem.porter import PorterStemmer\n",
    "corpus = []\n",
    "for i in tqdm(range(0, test_data.shape[0])):\n",
    "    review = re.sub(\"[^a-zA-z]\", ' ', test_data[0][i])\n",
    "    review = review.lower()\n",
    "    review = review.split()\n",
    "    ps = PorterStemmer()\n",
    "    review = [ps.stem(word) for word in review if not word in set(stopwords.words('english'))]\n",
    "    review = \" \".join(review)\n",
    "    corpus.append(review)\n"
   ],
   "metadata": {
    "collapsed": false
   }
  },
  {
   "cell_type": "code",
   "execution_count": 23,
   "outputs": [],
   "source": [
    "from sklearn.feature_extraction.text import CountVectorizer\n",
    "cv = CountVectorizer(max_features = 2500)\n",
    "X = cv.fit_transform(corpus).toarray()"
   ],
   "metadata": {
    "collapsed": false
   }
  },
  {
   "cell_type": "code",
   "execution_count": 24,
   "outputs": [
    {
     "data": {
      "text/plain": "(4099, 2500)"
     },
     "execution_count": 24,
     "metadata": {},
     "output_type": "execute_result"
    }
   ],
   "source": [
    "X.shape"
   ],
   "metadata": {
    "collapsed": false
   }
  },
  {
   "cell_type": "markdown",
   "source": [
    "# Make Prediction for test_data"
   ],
   "metadata": {
    "collapsed": false
   }
  },
  {
   "cell_type": "code",
   "execution_count": 86,
   "outputs": [
    {
     "data": {
      "text/plain": "array([0, 4, 0, ..., 4, 0, 0], dtype=int64)"
     },
     "execution_count": 86,
     "metadata": {},
     "output_type": "execute_result"
    }
   ],
   "source": [
    "test_pred = lr.predict(X)\n",
    "test_pred"
   ],
   "metadata": {
    "collapsed": false
   }
  },
  {
   "cell_type": "markdown",
   "source": [
    "## export predictions to .csv file"
   ],
   "metadata": {
    "collapsed": false
   }
  },
  {
   "cell_type": "code",
   "execution_count": 82,
   "outputs": [],
   "source": [
    "test_pred = test_pred.tolist()"
   ],
   "metadata": {
    "collapsed": false
   }
  },
  {
   "cell_type": "code",
   "execution_count": 83,
   "outputs": [],
   "source": [
    "df = pd.DataFrame({\"0\":test_pred})"
   ],
   "metadata": {
    "collapsed": false
   }
  },
  {
   "cell_type": "code",
   "execution_count": 90,
   "outputs": [
    {
     "data": {
      "text/plain": "array([0, 4, 3, 1, 2], dtype=int64)"
     },
     "execution_count": 90,
     "metadata": {},
     "output_type": "execute_result"
    }
   ],
   "source": [
    "df['0'].unique()"
   ],
   "metadata": {
    "collapsed": false
   }
  },
  {
   "cell_type": "code",
   "execution_count": 85,
   "outputs": [],
   "source": [
    "df.to_csv('predictions.csv', header=None, index=None)"
   ],
   "metadata": {
    "collapsed": false
   }
  }
 ],
 "metadata": {
  "kernelspec": {
   "display_name": "Python 3",
   "language": "python",
   "name": "python3"
  },
  "language_info": {
   "codemirror_mode": {
    "name": "ipython",
    "version": 2
   },
   "file_extension": ".py",
   "mimetype": "text/x-python",
   "name": "python",
   "nbconvert_exporter": "python",
   "pygments_lexer": "ipython2",
   "version": "2.7.6"
  }
 },
 "nbformat": 4,
 "nbformat_minor": 0
}
