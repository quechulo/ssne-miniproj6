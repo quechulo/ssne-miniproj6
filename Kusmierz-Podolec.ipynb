{
 "cells": [
  {
   "cell_type": "code",
   "execution_count": 1,
   "metadata": {
    "collapsed": true
   },
   "outputs": [],
   "source": [
    "import pandas as pd\n",
    "import torch\n",
    "import torch.nn as nn\n",
    "import numpy as np\n",
    "import matplotlib.pyplot as plt\n",
    "from torch.utils.data import DataLoader\n",
    "import os\n",
    "import random\n",
    "import pickle"
   ]
  },
  {
   "cell_type": "code",
   "execution_count": 2,
   "outputs": [
    {
     "data": {
      "text/plain": "device(type='cuda')"
     },
     "execution_count": 2,
     "metadata": {},
     "output_type": "execute_result"
    }
   ],
   "source": [
    "device = torch.device('cuda') # torch.device('cpu')\n",
    "device"
   ],
   "metadata": {
    "collapsed": false
   }
  },
  {
   "cell_type": "code",
   "execution_count": 3,
   "outputs": [],
   "source": [
    "rng = np.random.default_rng(73512)"
   ],
   "metadata": {
    "collapsed": false
   }
  },
  {
   "cell_type": "code",
   "execution_count": 4,
   "outputs": [],
   "source": [
    "torch.cuda.set_device(0)\n",
    "device = torch.device(\"cuda\")\n",
    "\n",
    "def set_all_seeds(seed):\n",
    "    os.environ[\"PL_GLOBAL_SEED\"] = str(seed)\n",
    "    random.seed(seed)\n",
    "    np.random.seed(seed)\n",
    "    torch.manual_seed(seed)\n",
    "    torch.cuda.manual_seed_all(seed)\n",
    "\n",
    "set_all_seeds(42)"
   ],
   "metadata": {
    "collapsed": false
   }
  },
  {
   "cell_type": "code",
   "execution_count": 5,
   "outputs": [
    {
     "data": {
      "text/plain": "                                              review  rating\n0  location not palace excellent hotel booke dthe...       4\n1  respite definitely not place stay looking ultr...       3\n2  stunning truly memorable spot right beach nusa...       4\n3  solid business hotel near embassy stayed hotel...       3\n4  nice place make sure lock money warning money ...       3\n5  good hotel crowded kids weekend review like go...       3\n6  good hotel overrated arrived hotel check-in ti...       2\n7  okay not fantastic, checking price upscale hot...       1\n8  resort beautiful thats ends just returned 5 da...       1\n9  good choice solo traveller recently stayed 4 n...       3",
      "text/html": "<div>\n<style scoped>\n    .dataframe tbody tr th:only-of-type {\n        vertical-align: middle;\n    }\n\n    .dataframe tbody tr th {\n        vertical-align: top;\n    }\n\n    .dataframe thead th {\n        text-align: right;\n    }\n</style>\n<table border=\"1\" class=\"dataframe\">\n  <thead>\n    <tr style=\"text-align: right;\">\n      <th></th>\n      <th>review</th>\n      <th>rating</th>\n    </tr>\n  </thead>\n  <tbody>\n    <tr>\n      <th>0</th>\n      <td>location not palace excellent hotel booke dthe...</td>\n      <td>4</td>\n    </tr>\n    <tr>\n      <th>1</th>\n      <td>respite definitely not place stay looking ultr...</td>\n      <td>3</td>\n    </tr>\n    <tr>\n      <th>2</th>\n      <td>stunning truly memorable spot right beach nusa...</td>\n      <td>4</td>\n    </tr>\n    <tr>\n      <th>3</th>\n      <td>solid business hotel near embassy stayed hotel...</td>\n      <td>3</td>\n    </tr>\n    <tr>\n      <th>4</th>\n      <td>nice place make sure lock money warning money ...</td>\n      <td>3</td>\n    </tr>\n    <tr>\n      <th>5</th>\n      <td>good hotel crowded kids weekend review like go...</td>\n      <td>3</td>\n    </tr>\n    <tr>\n      <th>6</th>\n      <td>good hotel overrated arrived hotel check-in ti...</td>\n      <td>2</td>\n    </tr>\n    <tr>\n      <th>7</th>\n      <td>okay not fantastic, checking price upscale hot...</td>\n      <td>1</td>\n    </tr>\n    <tr>\n      <th>8</th>\n      <td>resort beautiful thats ends just returned 5 da...</td>\n      <td>1</td>\n    </tr>\n    <tr>\n      <th>9</th>\n      <td>good choice solo traveller recently stayed 4 n...</td>\n      <td>3</td>\n    </tr>\n  </tbody>\n</table>\n</div>"
     },
     "execution_count": 5,
     "metadata": {},
     "output_type": "execute_result"
    }
   ],
   "source": [
    "train_data = pd.read_csv(\"train_data.csv\")\n",
    "train_data.head(10)"
   ],
   "metadata": {
    "collapsed": false
   }
  },
  {
   "cell_type": "code",
   "execution_count": 6,
   "outputs": [
    {
     "data": {
      "text/plain": "   great hotel location stayed 4 nts 24th 28th jan celebrating daughter 21st birthday.staff helpful getting balloons cake ordered occassion gave daughter chocolates vouchers free drink cellar bar.they recommended phillepe chow celebration meal lovely pricey special occasion booking recommended busy friday night.hotel rooms appointed turn service night molton brown products bathroom huge windows bathroom bit draughty needed towel having bath.we 18th 22nd floors no trouble noise traffic nightclub.location good minutes walk times square main shopping areas.got good deli right corner hotel called pax good downside hotel no tea/coffee facilities rooms available hotel room service expensive just tea coffee 20,  \n0   n't return overall disappointed hotel, no hot ...                                                                                                                                                                                                                                                                                                                                                                                                                                                                                                                                                                                                                                                                                      \n1   great value location desired problem hotel loc...                                                                                                                                                                                                                                                                                                                                                                                                                                                                                                                                                                                                                                                                                      \n2   kind helpfull people people kind helpful.we no...                                                                                                                                                                                                                                                                                                                                                                                                                                                                                                                                                                                                                                                                                      \n3   absolutely fabulous melia comfortable star hot...                                                                                                                                                                                                                                                                                                                                                                                                                                                                                                                                                                                                                                                                                      \n4   trip hell thoughts gotten, trip airport van no...                                                                                                                                                                                                                                                                                                                                                                                                                                                                                                                                                                                                                                                                                      \n5   lost madrid wife 10 month old recently stayed ...                                                                                                                                                                                                                                                                                                                                                                                                                                                                                                                                                                                                                                                                                      \n6   exceptional value money thoroughly recommend h...                                                                                                                                                                                                                                                                                                                                                                                                                                                                                                                                                                                                                                                                                      \n7   no breakfast just returned home san francisco ...                                                                                                                                                                                                                                                                                                                                                                                                                                                                                                                                                                                                                                                                                      \n8   great place friend stayed end april 5 nights, ...                                                                                                                                                                                                                                                                                                                                                                                                                                                                                                                                                                                                                                                                                      \n9   pleasant change hotels new orleans suite great...                                                                                                                                                                                                                                                                                                                                                                                                                                                                                                                                                                                                                                                                                      \n10  good basic place 2 sisters stayed overnight un...                                                                                                                                                                                                                                                                                                                                                                                                                                                                                                                                                                                                                                                                                      \n11  beutiful resort horrible service dates stay ju...                                                                                                                                                                                                                                                                                                                                                                                                                                                                                                                                                                                                                                                                                      \n12  small nice location great easily walk centraal...                                                                                                                                                                                                                                                                                                                                                                                                                                                                                                                                                                                                                                                                                      \n13  does not disappoint, stayed 5 days white swan ...                                                                                                                                                                                                                                                                                                                                                                                                                                                                                                                                                                                                                                                                                      \n14  beautiful hotel hotel beautiful- clean comfort...                                                                                                                                                                                                                                                                                                                                                                                                                                                                                                                                                                                                                                                                                      \n15  bad vibrations sydney partner london, booked s...                                                                                                                                                                                                                                                                                                                                                                                                                                                                                                                                                                                                                                                                                      \n16  loved beach loved beach sand fleas bite, recom...                                                                                                                                                                                                                                                                                                                                                                                                                                                                                                                                                                                                                                                                                      \n17  great hotel having florence great, right middl...                                                                                                                                                                                                                                                                                                                                                                                                                                                                                                                                                                                                                                                                                      \n18  hotel perseo great value location, stayed 3 ni...                                                                                                                                                                                                                                                                                                                                                                                                                                                                                                                                                                                                                                                                                      \n19  wonderful hotel stayed hotel alaskan cruise en...                                                                                                                                                                                                                                                                                                                                                                                                                                                                                                                                                                                                                                                                                      ",
      "text/html": "<div>\n<style scoped>\n    .dataframe tbody tr th:only-of-type {\n        vertical-align: middle;\n    }\n\n    .dataframe tbody tr th {\n        vertical-align: top;\n    }\n\n    .dataframe thead th {\n        text-align: right;\n    }\n</style>\n<table border=\"1\" class=\"dataframe\">\n  <thead>\n    <tr style=\"text-align: right;\">\n      <th></th>\n      <th>great hotel location stayed 4 nts 24th 28th jan celebrating daughter 21st birthday.staff helpful getting balloons cake ordered occassion gave daughter chocolates vouchers free drink cellar bar.they recommended phillepe chow celebration meal lovely pricey special occasion booking recommended busy friday night.hotel rooms appointed turn service night molton brown products bathroom huge windows bathroom bit draughty needed towel having bath.we 18th 22nd floors no trouble noise traffic nightclub.location good minutes walk times square main shopping areas.got good deli right corner hotel called pax good downside hotel no tea/coffee facilities rooms available hotel room service expensive just tea coffee 20,</th>\n    </tr>\n  </thead>\n  <tbody>\n    <tr>\n      <th>0</th>\n      <td>n't return overall disappointed hotel, no hot ...</td>\n    </tr>\n    <tr>\n      <th>1</th>\n      <td>great value location desired problem hotel loc...</td>\n    </tr>\n    <tr>\n      <th>2</th>\n      <td>kind helpfull people people kind helpful.we no...</td>\n    </tr>\n    <tr>\n      <th>3</th>\n      <td>absolutely fabulous melia comfortable star hot...</td>\n    </tr>\n    <tr>\n      <th>4</th>\n      <td>trip hell thoughts gotten, trip airport van no...</td>\n    </tr>\n    <tr>\n      <th>5</th>\n      <td>lost madrid wife 10 month old recently stayed ...</td>\n    </tr>\n    <tr>\n      <th>6</th>\n      <td>exceptional value money thoroughly recommend h...</td>\n    </tr>\n    <tr>\n      <th>7</th>\n      <td>no breakfast just returned home san francisco ...</td>\n    </tr>\n    <tr>\n      <th>8</th>\n      <td>great place friend stayed end april 5 nights, ...</td>\n    </tr>\n    <tr>\n      <th>9</th>\n      <td>pleasant change hotels new orleans suite great...</td>\n    </tr>\n    <tr>\n      <th>10</th>\n      <td>good basic place 2 sisters stayed overnight un...</td>\n    </tr>\n    <tr>\n      <th>11</th>\n      <td>beutiful resort horrible service dates stay ju...</td>\n    </tr>\n    <tr>\n      <th>12</th>\n      <td>small nice location great easily walk centraal...</td>\n    </tr>\n    <tr>\n      <th>13</th>\n      <td>does not disappoint, stayed 5 days white swan ...</td>\n    </tr>\n    <tr>\n      <th>14</th>\n      <td>beautiful hotel hotel beautiful- clean comfort...</td>\n    </tr>\n    <tr>\n      <th>15</th>\n      <td>bad vibrations sydney partner london, booked s...</td>\n    </tr>\n    <tr>\n      <th>16</th>\n      <td>loved beach loved beach sand fleas bite, recom...</td>\n    </tr>\n    <tr>\n      <th>17</th>\n      <td>great hotel having florence great, right middl...</td>\n    </tr>\n    <tr>\n      <th>18</th>\n      <td>hotel perseo great value location, stayed 3 ni...</td>\n    </tr>\n    <tr>\n      <th>19</th>\n      <td>wonderful hotel stayed hotel alaskan cruise en...</td>\n    </tr>\n  </tbody>\n</table>\n</div>"
     },
     "execution_count": 6,
     "metadata": {},
     "output_type": "execute_result"
    }
   ],
   "source": [
    "test_data = pd.read_csv(\"test_data.csv\")\n",
    "test_data.head(20)"
   ],
   "metadata": {
    "collapsed": false
   }
  },
  {
   "cell_type": "code",
   "execution_count": 14,
   "outputs": [
    {
     "data": {
      "text/plain": "16392"
     },
     "execution_count": 14,
     "metadata": {},
     "output_type": "execute_result"
    }
   ],
   "source": [
    "train_data.shape[0]"
   ],
   "metadata": {
    "collapsed": false
   }
  },
  {
   "cell_type": "code",
   "execution_count": 18,
   "outputs": [
    {
     "name": "stderr",
     "output_type": "stream",
     "text": [
      "[nltk_data] Downloading package stopwords to\n",
      "[nltk_data]     C:\\Users\\PC\\AppData\\Roaming\\nltk_data...\n",
      "[nltk_data]   Package stopwords is already up-to-date!\n"
     ]
    },
    {
     "data": {
      "text/plain": "  0%|          | 0/16392 [00:00<?, ?it/s]",
      "application/vnd.jupyter.widget-view+json": {
       "version_major": 2,
       "version_minor": 0,
       "model_id": "6bf187ff4ace49e98bccc5fc5bada217"
      }
     },
     "metadata": {},
     "output_type": "display_data"
    }
   ],
   "source": [
    "import re\n",
    "import nltk\n",
    "from tqdm.auto import tqdm\n",
    "nltk.download('stopwords')\n",
    "from nltk.corpus import stopwords\n",
    "from nltk.stem.porter import PorterStemmer\n",
    "corpus = []\n",
    "for i in tqdm(range(0, train_data.shape[0])):\n",
    "    review = re.sub(\"[^a-zA-z]\", ' ', train_data[\"review\"][i])\n",
    "    review = review.lower()\n",
    "    review = review.split()\n",
    "    ps = PorterStemmer()\n",
    "    review = [ps.stem(word) for word in review if not word in set(stopwords.words('english'))]\n",
    "    review = \" \".join(review)\n",
    "    corpus.append(review)"
   ],
   "metadata": {
    "collapsed": false
   }
  },
  {
   "cell_type": "code",
   "execution_count": 19,
   "outputs": [],
   "source": [
    "from sklearn.feature_extraction.text import CountVectorizer\n",
    "cv = CountVectorizer(max_features = 1500)\n",
    "X = cv.fit_transform(corpus).toarray()\n",
    "y = train_data[\"rating\"].values"
   ],
   "metadata": {
    "collapsed": false
   }
  },
  {
   "cell_type": "code",
   "execution_count": 45,
   "outputs": [],
   "source": [
    "from sklearn.feature_extraction.text import TfidfVectorizer\n",
    "cv = TfidfVectorizer()\n",
    "X = cv.fit_transform(corpus).toarray()\n",
    "y = train_data[\"rating\"].values"
   ],
   "metadata": {
    "collapsed": false
   }
  },
  {
   "cell_type": "code",
   "execution_count": 46,
   "outputs": [
    {
     "data": {
      "text/plain": "(16392, 32471)"
     },
     "execution_count": 46,
     "metadata": {},
     "output_type": "execute_result"
    }
   ],
   "source": [
    "X.shape"
   ],
   "metadata": {
    "collapsed": false
   }
  },
  {
   "cell_type": "code",
   "execution_count": 47,
   "outputs": [
    {
     "data": {
      "text/plain": "(16392,)"
     },
     "execution_count": 47,
     "metadata": {},
     "output_type": "execute_result"
    }
   ],
   "source": [
    "y.shape"
   ],
   "metadata": {
    "collapsed": false
   }
  },
  {
   "cell_type": "code",
   "execution_count": 48,
   "outputs": [],
   "source": [
    "from sklearn.model_selection import train_test_split\n",
    "X_train, X_test, y_train, y_test = train_test_split(X, y, test_size = 0.2, random_state = 0)"
   ],
   "metadata": {
    "collapsed": false
   }
  },
  {
   "cell_type": "markdown",
   "source": [
    "# Making predictions based on Naive Bayes"
   ],
   "metadata": {
    "collapsed": false
   }
  },
  {
   "cell_type": "code",
   "execution_count": 23,
   "outputs": [],
   "source": [
    "from sklearn.naive_bayes import GaussianNB\n",
    "classifier = GaussianNB()\n",
    "classifier.fit(X_train, y_train)\n",
    "#Predicting\n",
    "y_pred = classifier.predict(X_test)"
   ],
   "metadata": {
    "collapsed": false
   }
  },
  {
   "cell_type": "code",
   "execution_count": 24,
   "outputs": [],
   "source": [
    "from sklearn.metrics import confusion_matrix\n",
    "cm = confusion_matrix(y_test, y_pred)"
   ],
   "metadata": {
    "collapsed": false
   }
  },
  {
   "cell_type": "code",
   "execution_count": 25,
   "outputs": [
    {
     "data": {
      "text/plain": "array([[ 149,   44,   14,    2,    6],\n       [ 137,   70,   53,   14,   27],\n       [  99,   57,   67,   44,   81],\n       [ 101,   59,  101,  183,  517],\n       [ 104,   48,   49,  171, 1082]], dtype=int64)"
     },
     "execution_count": 25,
     "metadata": {},
     "output_type": "execute_result"
    }
   ],
   "source": [
    "cm"
   ],
   "metadata": {
    "collapsed": false
   }
  },
  {
   "cell_type": "code",
   "execution_count": 27,
   "outputs": [
    {
     "ename": "ImportError",
     "evalue": "cannot import name 'plot_confusion_matrix' from 'sklearn.metrics' (E:\\Python VirtualEnvs\\ssne\\lib\\site-packages\\sklearn\\metrics\\__init__.py)",
     "output_type": "error",
     "traceback": [
      "\u001B[1;31m---------------------------------------------------------------------------\u001B[0m",
      "\u001B[1;31mImportError\u001B[0m                               Traceback (most recent call last)",
      "Cell \u001B[1;32mIn [27], line 2\u001B[0m\n\u001B[0;32m      1\u001B[0m \u001B[38;5;28;01mimport\u001B[39;00m \u001B[38;5;21;01mmatplotlib\u001B[39;00m\u001B[38;5;21;01m.\u001B[39;00m\u001B[38;5;21;01mpyplot\u001B[39;00m \u001B[38;5;28;01mas\u001B[39;00m \u001B[38;5;21;01mplt\u001B[39;00m\n\u001B[1;32m----> 2\u001B[0m \u001B[38;5;28;01mfrom\u001B[39;00m \u001B[38;5;21;01msklearn\u001B[39;00m\u001B[38;5;21;01m.\u001B[39;00m\u001B[38;5;21;01mmetrics\u001B[39;00m \u001B[38;5;28;01mimport\u001B[39;00m plot_confusion_matrix\n\u001B[0;32m      3\u001B[0m plot_confusion_matrix(classifier, X_test, y_test, cmap\u001B[38;5;241m=\u001B[39mplt\u001B[38;5;241m.\u001B[39mcm\u001B[38;5;241m.\u001B[39mBlues)\n\u001B[0;32m      4\u001B[0m plt\u001B[38;5;241m.\u001B[39mshow()\n",
      "\u001B[1;31mImportError\u001B[0m: cannot import name 'plot_confusion_matrix' from 'sklearn.metrics' (E:\\Python VirtualEnvs\\ssne\\lib\\site-packages\\sklearn\\metrics\\__init__.py)"
     ]
    }
   ],
   "source": [
    "# import matplotlib.pyplot as plt\n",
    "# from sklearn.metrics import plot_confusion_matrix\n",
    "# plot_confusion_matrix(classifier, X_test, y_test, cmap=plt.cm.Blues)\n",
    "# plt.show()"
   ],
   "metadata": {
    "collapsed": false
   }
  },
  {
   "cell_type": "code",
   "execution_count": 28,
   "outputs": [
    {
     "name": "stdout",
     "output_type": "stream",
     "text": [
      "              precision    recall  f1-score   support\n",
      "\n",
      "           0       0.25      0.69      0.37       215\n",
      "           1       0.25      0.23      0.24       301\n",
      "           2       0.24      0.19      0.21       348\n",
      "           3       0.44      0.19      0.27       961\n",
      "           4       0.63      0.74      0.68      1454\n",
      "\n",
      "    accuracy                           0.47      3279\n",
      "   macro avg       0.36      0.41      0.35      3279\n",
      "weighted avg       0.47      0.47      0.45      3279\n",
      "\n"
     ]
    }
   ],
   "source": [
    "from sklearn.metrics import classification_report\n",
    "\n",
    "print(classification_report(y_test, y_pred))"
   ],
   "metadata": {
    "collapsed": false
   }
  },
  {
   "cell_type": "markdown",
   "source": [
    "# Making predictions using Logistic Regression"
   ],
   "metadata": {
    "collapsed": false
   }
  },
  {
   "cell_type": "code",
   "execution_count": 32,
   "outputs": [],
   "source": [
    "from sklearn.ensemble import AdaBoostClassifier\n",
    "lr = AdaBoostClassifier()\n",
    "lr.fit(X_train, y_train)\n",
    "y_pred = lr.predict(X_test)"
   ],
   "metadata": {
    "collapsed": false
   }
  },
  {
   "cell_type": "code",
   "execution_count": 33,
   "outputs": [
    {
     "name": "stdout",
     "output_type": "stream",
     "text": [
      "              precision    recall  f1-score   support\n",
      "\n",
      "           0       0.51      0.70      0.59       215\n",
      "           1       0.36      0.25      0.29       301\n",
      "           2       0.36      0.14      0.20       348\n",
      "           3       0.46      0.45      0.46       961\n",
      "           4       0.66      0.78      0.72      1454\n",
      "\n",
      "    accuracy                           0.56      3279\n",
      "   macro avg       0.47      0.46      0.45      3279\n",
      "weighted avg       0.53      0.56      0.54      3279\n",
      "\n"
     ]
    }
   ],
   "source": [
    "from sklearn.metrics import confusion_matrix\n",
    "cm = confusion_matrix(y_test, y_pred)\n",
    "print(classification_report(y_test, y_pred))"
   ],
   "metadata": {
    "collapsed": false
   }
  },
  {
   "cell_type": "code",
   "execution_count": 40,
   "outputs": [],
   "source": [
    "from sklearn.ensemble import RandomForestClassifier\n",
    "lr = RandomForestClassifier()\n",
    "lr.fit(X_train, y_train)\n",
    "y_pred = lr.predict(X_test)"
   ],
   "metadata": {
    "collapsed": false
   }
  },
  {
   "cell_type": "code",
   "execution_count": 41,
   "outputs": [
    {
     "name": "stdout",
     "output_type": "stream",
     "text": [
      "              precision    recall  f1-score   support\n",
      "\n",
      "           0       0.63      0.59      0.61       215\n",
      "           1       0.35      0.06      0.10       301\n",
      "           2       0.53      0.05      0.09       348\n",
      "           3       0.42      0.41      0.41       961\n",
      "           4       0.61      0.88      0.72      1454\n",
      "\n",
      "    accuracy                           0.56      3279\n",
      "   macro avg       0.51      0.40      0.39      3279\n",
      "weighted avg       0.53      0.56      0.50      3279\n",
      "\n"
     ]
    }
   ],
   "source": [
    "from sklearn.metrics import confusion_matrix\n",
    "cm = confusion_matrix(y_test, y_pred)\n",
    "print(classification_report(y_test, y_pred))"
   ],
   "metadata": {
    "collapsed": false
   }
  },
  {
   "cell_type": "code",
   "execution_count": 49,
   "outputs": [],
   "source": [
    "from sklearn.svm import SVC\n",
    "lr = SVC()\n",
    "lr.fit(X_train, y_train)\n",
    "y_pred = lr.predict(X_test)"
   ],
   "metadata": {
    "collapsed": false
   }
  },
  {
   "cell_type": "code",
   "execution_count": 50,
   "outputs": [
    {
     "name": "stdout",
     "output_type": "stream",
     "text": [
      "              precision    recall  f1-score   support\n",
      "\n",
      "           0       0.73      0.66      0.69       215\n",
      "           1       0.54      0.45      0.49       301\n",
      "           2       0.55      0.19      0.28       348\n",
      "           3       0.51      0.54      0.53       961\n",
      "           4       0.72      0.84      0.77      1454\n",
      "\n",
      "    accuracy                           0.63      3279\n",
      "   macro avg       0.61      0.53      0.55      3279\n",
      "weighted avg       0.62      0.63      0.62      3279\n",
      "\n"
     ]
    }
   ],
   "source": [
    "print(classification_report(y_test, y_pred))"
   ],
   "metadata": {
    "collapsed": false
   }
  },
  {
   "cell_type": "code",
   "execution_count": null,
   "outputs": [],
   "source": [],
   "metadata": {
    "collapsed": false
   }
  }
 ],
 "metadata": {
  "kernelspec": {
   "display_name": "Python 3",
   "language": "python",
   "name": "python3"
  },
  "language_info": {
   "codemirror_mode": {
    "name": "ipython",
    "version": 2
   },
   "file_extension": ".py",
   "mimetype": "text/x-python",
   "name": "python",
   "nbconvert_exporter": "python",
   "pygments_lexer": "ipython2",
   "version": "2.7.6"
  }
 },
 "nbformat": 4,
 "nbformat_minor": 0
}
